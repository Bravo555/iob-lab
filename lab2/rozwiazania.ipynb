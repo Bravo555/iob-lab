{
 "cells": [
  {
   "cell_type": "markdown",
   "metadata": {},
   "source": [
    "# Zadanie 1"
   ]
  },
  {
   "cell_type": "code",
   "execution_count": 13,
   "metadata": {},
   "outputs": [
    {
     "name": "stdout",
     "output_type": "stream",
     "text": [
      "Hello!\n"
     ]
    }
   ],
   "source": [
    "print('Hello!')"
   ]
  },
  {
   "cell_type": "markdown",
   "metadata": {},
   "source": [
    "# Zadanie 2"
   ]
  },
  {
   "cell_type": "code",
   "execution_count": 14,
   "metadata": {},
   "outputs": [
    {
     "name": "stdout",
     "output_type": "stream",
     "text": [
      "  _________________\n",
      "| 冰淇淋 bing chilling |\n",
      "  =================\n",
      "                 \\\n",
      "                  \\\n",
      "                    ^__^\n",
      "                    (oo)\\_______\n",
      "                    (__)\\       )\\/\\\n",
      "                        ||----w |\n",
      "                        ||     ||\n"
     ]
    }
   ],
   "source": [
    "import cowsay\n",
    "cowsay.cow('冰淇淋 bing chilling')"
   ]
  },
  {
   "cell_type": "markdown",
   "metadata": {},
   "source": [
    "# Zadanie 3"
   ]
  },
  {
   "cell_type": "code",
   "execution_count": 18,
   "metadata": {},
   "outputs": [],
   "source": [
    "import math\n",
    "import itertools\n",
    "\n",
    "def calc_sin(arg: float) -> float:\n",
    "    arg_rad = math.radians(arg)\n",
    "    return math.sin(arg_rad)\n",
    "\n",
    "with open('angles_deg.txt', 'r') as f:\n",
    "    data = list(map(float, f.read().split('\\n')[:-1]))\n",
    "\n",
    "sines = list(map(lambda x: str(calc_sin(x)), data))\n",
    "out = list(map(lambda x: f\"{x[0]}: {x[1]}\\n\", zip(data, sines)))\n",
    "\n",
    "with open('output.txt', 'w') as f:\n",
    "    f.writelines(out)"
   ]
  },
  {
   "cell_type": "markdown",
   "metadata": {},
   "source": [
    "# Zadanie 4 & 5"
   ]
  },
  {
   "cell_type": "code",
   "execution_count": 54,
   "metadata": {},
   "outputs": [
    {
     "name": "stdout",
     "output_type": "stream",
     "text": [
      "1335.63\n",
      "Produkt: { nazwa=produkt 1, cena=6.99 }\n",
      "Koszyk:\n",
      "\tProdukt: { nazwa=produkt 1, cena=6.99 }; sztuk 2\n",
      "\tProdukt: { nazwa=produkt 2, cena=0.99 }; sztuk 1335\n",
      "\n",
      "1337\n",
      "Produkt: { nazwa=produkt 1, cena=6.99 }\n",
      "Produkt: { nazwa=produkt 2, cena=0.99 }\n"
     ]
    }
   ],
   "source": [
    "import functools\n",
    "\n",
    "class Product:\n",
    "    def __init__(self, name: str, price: float, quantity: int):\n",
    "        self.name = name\n",
    "        self.price = price\n",
    "        self.quantity = quantity\n",
    "\n",
    "    def __str__(self):\n",
    "        return f'Produkt: {{ nazwa={self.name}, cena={self.price} }}'\n",
    "\n",
    "class Cart:\n",
    "    def __init__(self):\n",
    "        self.content = [\n",
    "            Product('produkt 1', 6.99, 1),\n",
    "            Product('produkt 2', 0.99, 1336)\n",
    "        ]\n",
    "\n",
    "    def __str__(self):\n",
    "        text = 'Koszyk:\\n'\n",
    "        for item in self.content:\n",
    "            text += f'\\t{item}; sztuk {item.quantity}\\n'\n",
    "\n",
    "        return text\n",
    "\n",
    "    def __len__(self):\n",
    "        return sum([item.quantity for item in self.content])\n",
    "\n",
    "    def __iter__(self):\n",
    "        return self.content.__iter__()\n",
    "\n",
    "    def __next__():\n",
    "        return self.content.__next__()\n",
    "\n",
    "    def add(self, product_name: str):\n",
    "        for product in self.content:\n",
    "            if product.name == product_name:\n",
    "                product.quantity += 1\n",
    "\n",
    "    def remove(self, product_name: str):\n",
    "        for product in self.content:\n",
    "            if product.name == product_name:\n",
    "                product.quantity -= 1\n",
    "\n",
    "    def total_price(self) -> float:\n",
    "        return sum(map(lambda x: x.quantity * x.price, self.content))\n",
    "\n",
    "cart = Cart()\n",
    "cart.add('produkt 1')\n",
    "cart.remove('produkt 2')\n",
    "print(cart.total_price())\n",
    "print(cart.content[0])\n",
    "print(cart)\n",
    "print(len(cart))\n",
    "\n",
    "for item in cart:\n",
    "    print(item)"
   ]
  }
 ],
 "metadata": {
  "kernelspec": {
   "display_name": "Python 3",
   "language": "python",
   "name": "python3"
  },
  "language_info": {
   "codemirror_mode": {
    "name": "ipython",
    "version": 3
   },
   "file_extension": ".py",
   "mimetype": "text/x-python",
   "name": "python",
   "nbconvert_exporter": "python",
   "pygments_lexer": "ipython3",
   "version": "3.10.2"
  }
 },
 "nbformat": 4,
 "nbformat_minor": 4
}
