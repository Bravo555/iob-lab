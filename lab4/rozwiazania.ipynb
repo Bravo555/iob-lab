{
 "cells": [
  {
   "cell_type": "code",
   "execution_count": 196,
   "metadata": {},
   "outputs": [],
   "source": [
    "import cv2\n",
    "from matplotlib import pyplot\n",
    "import numpy as np\n",
    "from scipy.fftpack import dct\n",
    "from scipy.fftpack import idct\n",
    "import struct\n",
    "import zlib"
   ]
  },
  {
   "cell_type": "markdown",
   "metadata": {},
   "source": [
    "# Zadanie 1"
   ]
  },
  {
   "cell_type": "code",
   "execution_count": 197,
   "metadata": {},
   "outputs": [],
   "source": [
    "ppm_width = 16\n",
    "ppm_height = 16\n",
    "\n",
    "#\n",
    "# PPM file header\n",
    "#\n",
    "ppm_ascii_header = f'P3\\n{ppm_width} {ppm_height}\\n255\\n'  # TODO: implement\n",
    "ppm_binary_header = f'P6\\n{ppm_width} {ppm_height}\\n255\\n'  # TODO: implement\n",
    "\n",
    "#\n",
    "# Image data\n",
    "#\n",
    "ppm_raw = [255, 255, 255, 255, 255, 255, 255, 255, 255, 0, 0, 0, 0, 0, 0, 0, 0, 0, 0, 0, 0, 0, 0, 0, 0, 0, 0, 255, 255, 255, 255, 255, 255, 255, 255, 255, 255, 255, 255, 255, 255, 255, 255, 255, 255, 255, 255, 255, 255, 255, 255, 255, 255, 255, 0, 0, 0, 213, 238, 253, 217, 240, 254, 219, 239, 254, 219, 239, 254, 217, 240, 254, 213, 239, 253, 0, 0, 0, 254, 254, 254, 255, 255, 255, 255, 255, 255, 255, 255, 255, 255, 255, 255, 255, 255, 255, 255, 255, 255, 0, 0, 0, 216, 239, 254, 216, 239, 255, 0, 0, 0, 0, 0, 0, 0, 0, 0, 0, 0, 0, 216, 239, 255, 216, 239, 255, 0, 0, 0, 255, 255, 255, 255, 255, 255, 255, 255, 255, 255, 255, 255, 255, 255, 255, 255, 255, 255, 0, 0, 0, 215, 240, 254, 0, 0, 0, 156, 199, 215, 156, 199, 215, 156, 199, 215, 156, 199, 215, 0, 0, 0, 213, 239, 253, 0, 0, 0, 255, 255, 255, 255, 255, 255, 255, 255, 255, 255, 255, 255, 255, 255, 255, 0, 0, 0, 216, 239, 255, 217, 239, 254, 216, 239, 255, 0, 0, 0, 0, 0, 0, 0, 0, 0, 0, 0, 0, 212, 235, 249, 213, 241, 255, 0, 0, 0, 253, 253, 253, 255, 255, 255, 255, 255, 255, 255, 255, 255, 255, 255, 255, 0, 0, 0, 216, 240, 254, 219, 238, 254, 216, 238, 254, 216, 239, 255, 216, 239, 255, 216, 239, 255, 216, 239, 255, 214, 240, 254, 213, 241, 255, 0, 0, 0, 255, 255, 255, 255, 255, 255, 255, 255, 255, 255, 255, 255, 255, 255, 255, 0, 0, 0, 216, 240, 254, 216, 239, 254, 216, 238, 254, 216, 239, 255, 216, 239, 255, 216, 239, 255, 216, 239, 255, 213, 240, 254, 213, 241, 255, 213, 238, 252, 0, 0, 0, 255, 255, 255, 255, 255, 255, 255, 255, 255, 255, 255, 255, 0, 0, 0, 216, 240, 254, 214, 239, 254, 216, 239, 255, 216, 239, 255, 215, 239, 255, 214, 239, 254, 213, 240, 254, 216, 239, 254, 213, 241, 255, 214, 240, 254, 0, 0, 0, 255, 255, 255, 255, 255, 255, 255, 255, 255, 255, 255, 255, 0, 0, 0, 216, 240, 254, 214, 240, 255, 216, 239, 254, 215, 238, 254, 213, 240, 254, 213, 241, 255, 213, 241, 255, 214, 241, 255, 213, 241, 255, 214, 240, 255, 0, 0, 0, 252, 252, 252, 255, 255, 255, 255, 255, 255, 255, 255, 255, 0, 0, 0, 215, 240, 254, 214, 240, 254, 214, 239, 254, 214, 240, 255, 213, 241, 255, 215, 240, 254, 214, 241, 254, 213, 241, 255, 213, 241, 255, 213, 241, 255, 0, 0, 0, 0, 0, 0, 255, 255, 255, 255, 255, 255, 255, 255, 255, 0, 0, 0, 214, 240, 254, 213, 241, 255, 213, 241, 255, 216, 239, 255, 0, 0, 0, 0, 0, 0, 0, 0, 0, 0, 0, 0, 216, 239, 255, 219, 239, 254, 217, 237, 251, 0, 0, 0, 255, 255, 255, 255, 255, 255, 255, 255, 255, 0, 0, 0, 216, 240, 254, 213, 241, 255, 216, 240, 254, 0, 0, 0, 253, 253, 253, 255, 255, 255, 255, 255, 255, 255, 255, 255, 0, 0, 0, 215, 240, 255, 219, 239, 254, 0, 0, 0, 0, 0, 0, 0, 0, 0, 255, 255, 255, 0, 0, 0, 219, 240, 254, 216, 239, 254, 215, 240, 254, 0, 0, 0, 255, 255, 255, 252, 252, 252, 255, 255, 255, 0, 0, 0, 216, 239, 255, 215, 240, 255, 215, 240, 254, 216, 236, 251, 216, 239, 255, 216, 239, 255, 0, 0, 0, 0, 0, 0, 217, 240, 254, 217, 240, 255, 216, 240, 254, 216, 239, 255, 0, 0, 0, 0, 0, 0, 255, 255, 255, 255, 255, 255, 0, 0, 0, 0, 0, 0, 216, 239, 255, 217, 236, 250, 218, 237, 252, 216, 239, 255, 0, 0, 0, 0, 0, 0, 216, 239, 255, 215, 240, 254, 216, 239, 254, 215, 240, 254, 218, 240, 254, 220, 238, 253, 0, 0, 0, 255, 255, 255, 255, 255, 255, 255, 255, 255, 0, 0, 0, 0, 0, 0, 0, 0, 0, 0, 0, 0, 255, 255, 255, 255, 255, 255, 0, 0, 0, 0, 0, 0, 0, 0, 0, 0, 0, 0, 0, 0, 0, 0, 0, 0, 255, 255, 255, 255, 255, 255, 255, 255, 255, 255, 255, 255, 255, 255, 255, 255, 255, 255, 255, 255, 255, 255, 255, 255, 255, 255, 255]\n",
    "image = np.array(ppm_raw, dtype=np.uint8)  # TODO: implement\n",
    "\n",
    "#\n",
    "# Save the PPM image as an ASCII file\n",
    "#\n",
    "with open('lab4-ascii.ppm', 'w') as fh:\n",
    "    fh.write(ppm_ascii_header)\n",
    "    image.tofile(fh, sep=' ')\n",
    "    fh.write('\\n')\n",
    "\n",
    "#\n",
    "# Save the PPM image as a binary file\n",
    "#\n",
    "with open('lab4-binary.ppm', 'wb') as fh:\n",
    "    fh.write(bytearray(ppm_binary_header, 'ascii'))\n",
    "    image.tofile(fh)"
   ]
  },
  {
   "cell_type": "code",
   "execution_count": 198,
   "metadata": {},
   "outputs": [
    {
     "data": {
      "text/plain": [
       "<matplotlib.image.AxesImage at 0x7f3256458b20>"
      ]
     },
     "execution_count": 198,
     "metadata": {},
     "output_type": "execute_result"
    },
    {
     "data": {
      "image/png": "[encoded data removed]",
      "text/plain": [
       "<Figure size 432x288 with 1 Axes>"
      ]
     },
     "metadata": {
      "needs_background": "light"
     },
     "output_type": "display_data"
    }
   ],
   "source": [
    "#\n",
    "# Display image\n",
    "#\n",
    "image_from_file = cv2.imread('lab4-ascii.ppm')\n",
    "pyplot.imshow(cv2.cvtColor(image_from_file, cv2.COLOR_BGR2RGB))"
   ]
  },
  {
   "cell_type": "code",
   "execution_count": 199,
   "metadata": {},
   "outputs": [
    {
     "data": {
      "text/plain": [
       "<matplotlib.image.AxesImage at 0x7f3256105de0>"
      ]
     },
     "execution_count": 199,
     "metadata": {},
     "output_type": "execute_result"
    },
    {
     "data": {
      "image/png": "[encoded data removed]",
      "text/plain": [
       "<Figure size 432x288 with 1 Axes>"
      ]
     },
     "metadata": {
      "needs_background": "light"
     },
     "output_type": "display_data"
    }
   ],
   "source": [
    "#\n",
    "# Display image\n",
    "#\n",
    "image_from_file = cv2.imread('lab4-binary.ppm')\n",
    "pyplot.imshow(cv2.cvtColor(image_from_file, cv2.COLOR_BGR2RGB))"
   ]
  },
  {
   "cell_type": "markdown",
   "metadata": {},
   "source": [
    "# Zadanie 2"
   ]
  },
  {
   "cell_type": "code",
   "execution_count": 200,
   "metadata": {},
   "outputs": [
    {
     "name": "stdout",
     "output_type": "stream",
     "text": [
      "(64, 256, 3)\n",
      "[[255 218 255]\n",
      " [255 225 255]\n",
      " [255 233 255]\n",
      " [255 240 255]\n",
      " [255 247 255]\n",
      " [255 255 255]\n",
      " [  0   0   0]\n",
      " [  0   0   0]\n",
      " [  0   0   0]\n",
      " [  0   0   0]]\n"
     ]
    }
   ],
   "source": [
    "from itertools import pairwise\n",
    "\n",
    "\n",
    "rainbow_width = 256\n",
    "rainbow_height = 64\n",
    "\n",
    "keypoints = [\n",
    "    [0, 0, 0],\n",
    "    [0, 0, 255],\n",
    "    [0, 255, 255],\n",
    "    [0, 255, 0],\n",
    "    [255, 255, 0],\n",
    "    [255, 0, 0],\n",
    "    [255, 0, 255],\n",
    "    [255, 255, 255]\n",
    "]\n",
    "\n",
    "numsteps = rainbow_width // (len(keypoints) - 1)\n",
    "\n",
    "rainbow = np.zeros(shape=(rainbow_height, rainbow_width, 3), dtype=np.uint8)\n",
    "\n",
    "for i, (start, end) in enumerate(pairwise(keypoints)):\n",
    "    transition = np.linspace(start, end, numsteps)[np.newaxis]\n",
    "    rainbow[:,numsteps*i:numsteps*(i+1)] = transition\n",
    "print(rainbow.shape)\n",
    "print(rainbow[0,-10:])\n",
    "\n",
    "rainbow_header = f'P6\\n{rainbow_width} {rainbow_height}\\n255\\n'  # TODO: implement\n",
    "with open('lab4-rainbow.ppm', 'wb') as fh:\n",
    "    fh.write(bytearray(rainbow_header, 'ascii'))\n",
    "    rainbow.tofile(fh)"
   ]
  },
  {
   "cell_type": "code",
   "execution_count": 201,
   "metadata": {},
   "outputs": [
    {
     "name": "stdout",
     "output_type": "stream",
     "text": [
      "(64, 256, 3)\n"
     ]
    },
    {
     "data": {
      "text/plain": [
       "<matplotlib.image.AxesImage at 0x7f3255fb2140>"
      ]
     },
     "execution_count": 201,
     "metadata": {},
     "output_type": "execute_result"
    },
    {
     "data": {
      "image/png": "[encoded data removed]",
      "text/plain": [
       "<Figure size 432x288 with 1 Axes>"
      ]
     },
     "metadata": {
      "needs_background": "light"
     },
     "output_type": "display_data"
    }
   ],
   "source": [
    "#\n",
    "# Display image\n",
    "#\n",
    "image_from_file = cv2.imread('lab4-rainbow.ppm')\n",
    "print(image_from_file.shape)\n",
    "pyplot.imshow(cv2.cvtColor(image_from_file, cv2.COLOR_BGR2RGB))"
   ]
  },
  {
   "cell_type": "markdown",
   "metadata": {},
   "source": [
    "# Zadanie 3"
   ]
  },
  {
   "cell_type": "code",
   "execution_count": 202,
   "metadata": {},
   "outputs": [
    {
     "name": "stdout",
     "output_type": "stream",
     "text": [
      "(64, 256, 3)\n"
     ]
    }
   ],
   "source": [
    "import struct\n",
    "\n",
    "#\n",
    "# Image data\n",
    "#\n",
    "image = np.array(rainbow,\n",
    "                    dtype=np.uint8)\n",
    "print(image.shape)\n",
    "\n",
    "def save_png(data, filename):\n",
    "    #\n",
    "    # Construct signature\n",
    "    #\n",
    "    png_file_signature = b'\\x89PNG\\r\\n\\x1a\\n'\n",
    "\n",
    "    #\n",
    "    # Construct header\n",
    "    #\n",
    "    header_id = b'IHDR'\n",
    "    header_content = struct.pack('>IIBBBBB', data.shape[1], data.shape[0], 8, 2, 0, 0, 0)\n",
    "    header_size = struct.pack('>I', len(header_content))\n",
    "    # network byte order (same as big-endian)\n",
    "    header_crc = struct.pack('!I', zlib.crc32(header_id + header_content))\n",
    "    png_file_header = header_size + header_id + header_content + header_crc\n",
    "\n",
    "    #\n",
    "    # Construct data\n",
    "    #\n",
    "    data_id = b'IDAT'\n",
    "    data_content = zlib.compress(b''.join([b'\\x00' + bytes(row) for row in data]))\n",
    "    data_size = struct.pack('>I', len(data_content))\n",
    "    data_crc = struct.pack('!I', zlib.crc32(data_id + data_content))\n",
    "    png_file_data = data_size + data_id + data_content + data_crc\n",
    "\n",
    "    #\n",
    "    # Construct end\n",
    "    #\n",
    "    end_id = b'IEND'\n",
    "    end_content = b''\n",
    "    end_size = struct.pack('!I', len(end_content))\n",
    "    end_crc = struct.pack('!I', zlib.crc32(end_id + end_content))\n",
    "    png_file_end = end_size + end_id + end_content + end_crc\n",
    "\n",
    "    #\n",
    "    # Save the PNG image as a binary file\n",
    "    #\n",
    "    with open(filename, 'wb') as fh:\n",
    "        fh.write(png_file_signature)\n",
    "        fh.write(png_file_header)\n",
    "        fh.write(png_file_data)\n",
    "        fh.write(png_file_end)\n",
    "\n",
    "save_png(image, 'lab4.png')"
   ]
  },
  {
   "cell_type": "code",
   "execution_count": 203,
   "metadata": {},
   "outputs": [
    {
     "data": {
      "text/plain": [
       "<matplotlib.image.AxesImage at 0x7f3255fd1240>"
      ]
     },
     "execution_count": 203,
     "metadata": {},
     "output_type": "execute_result"
    },
    {
     "data": {
      "image/png": "[encoded data removed]",
      "text/plain": [
       "<Figure size 432x288 with 1 Axes>"
      ]
     },
     "metadata": {
      "needs_background": "light"
     },
     "output_type": "display_data"
    }
   ],
   "source": [
    "#\n",
    "# Display image\n",
    "#\n",
    "image_from_file = cv2.imread('lab4.png')\n",
    "pyplot.imshow(cv2.cvtColor(image_from_file, cv2.COLOR_BGR2RGB))"
   ]
  },
  {
   "cell_type": "markdown",
   "metadata": {},
   "source": [
    "# Funkcje pomocnicze do zadań 4 i 5"
   ]
  },
  {
   "cell_type": "code",
   "execution_count": 204,
   "metadata": {},
   "outputs": [],
   "source": [
    "#\n",
    "# 2d Discrete Cosinus Transform\n",
    "#\n",
    "# Note: using axis=-1/-2 so DCT works when passing array of ndim > 2\n",
    "def dct2(array):\n",
    "    return dct(dct(array, axis=-2, norm='ortho'), axis=-1, norm='ortho')\n",
    "\n",
    "\n",
    "def idct2(array):\n",
    "    return idct(idct(array, axis=-2, norm='ortho'), axis=-1, norm='ortho')\n",
    "\n",
    "\n",
    "#\n",
    "# Calculate quantisation matrices\n",
    "#\n",
    "# Based on: https://www.hdm-stuttgart.de/~maucher/Python/MMCodecs/html/jpegUpToQuant.html\n",
    "#           #step-3-and-4-discrete-cosinus-transform-and-quantisation\n",
    "#\n",
    "_QY = np.array([[16, 11, 10, 16, 24, 40, 51, 61],\n",
    "                   [12, 12, 14, 19, 26, 48, 60, 55],\n",
    "                   [14, 13, 16, 24, 40, 57, 69, 56],\n",
    "                   [14, 17, 22, 29, 51, 87, 80, 62],\n",
    "                   [18, 22, 37, 56, 68, 109, 103, 77],\n",
    "                   [24, 35, 55, 64, 81, 104, 113, 92],\n",
    "                   [49, 64, 78, 87, 103, 121, 120, 101],\n",
    "                   [72, 92, 95, 98, 112, 100, 103, 99]])\n",
    "\n",
    "_QC = np.array([[17, 18, 24, 47, 99, 99, 99, 99],\n",
    "                   [18, 21, 26, 66, 99, 99, 99, 99],\n",
    "                   [24, 26, 56, 99, 99, 99, 99, 99],\n",
    "                   [47, 66, 99, 99, 99, 99, 99, 99],\n",
    "                   [99, 99, 99, 99, 99, 99, 99, 99],\n",
    "                   [99, 99, 99, 99, 99, 99, 99, 99],\n",
    "                   [99, 99, 99, 99, 99, 99, 99, 99],\n",
    "                   [99, 99, 99, 99, 99, 99, 99, 99]])\n",
    "\n",
    "\n",
    "def _scale(QF):\n",
    "    if QF < 50 and QF >= 1:\n",
    "        scale = np.floor(5000 / QF)\n",
    "    elif QF < 100:\n",
    "        scale = 200 - 2 * QF\n",
    "    else:\n",
    "        raise ValueError('Quality Factor must be in the range [1..99]')\n",
    "\n",
    "    scale = scale / 100.0\n",
    "    return scale\n",
    "\n",
    "\n",
    "def QY(QF=85):\n",
    "    return _QY * _scale(QF)\n",
    "\n",
    "\n",
    "def QC(QF=85):\n",
    "    return _QC * _scale(QF)"
   ]
  },
  {
   "cell_type": "markdown",
   "metadata": {},
   "source": [
    "# Zadania 4 i 5"
   ]
  },
  {
   "cell_type": "code",
   "execution_count": 205,
   "metadata": {},
   "outputs": [
    {
     "name": "stdout",
     "output_type": "stream",
     "text": [
      "Liczba bajtow oryginalnego obrazu: 49152\n",
      "Liczba bajtow po kompresji: 7237\n"
     ]
    }
   ],
   "source": [
    "np.set_printoptions(precision=3, suppress=True)\n",
    "\n",
    "#\n",
    "# 0. Image data\n",
    "#\n",
    "jpg_data = image\n",
    "\n",
    "#\n",
    "# 1. Convert RGB to YCbCr\n",
    "#\n",
    "to_cbcr_matrix = np.array([\n",
    "    [ 0.229,  0.587,  0.114],\n",
    "    [ 0.500, -0.418, -0.082],\n",
    "    [-0.168, -0.331,  0.500],\n",
    "])\n",
    "jpg_data_ycbcr = np.asarray([np.array([0, 128, 128]) + to_cbcr_matrix.dot(pixel) for pixel in np.vstack(jpg_data)]) \\\n",
    "    .clip(min=0, max=255).reshape(image.shape).astype(np.uint8)\n",
    "\n",
    "#\n",
    "# 2. Downsampling on Cb and Cr channels\n",
    "#\n",
    "jpg_luma = jpg_data_ycbcr[..., 0]\n",
    "jpg_chroma = jpg_data_ycbcr[..., 1:]\n",
    "jpg_chroma_halved = jpg_chroma[::2, ::2]\n",
    "\n",
    "#\n",
    "# 3. Produce 8x8 blocks\n",
    "#\n",
    "\n",
    "# ensure width and height are multiples of 8 and fail if not because i dont care anymore\n",
    "assert(jpg_chroma_halved.shape[0] % 8 == 0)\n",
    "assert(jpg_chroma_halved.shape[1] % 8 == 0)\n",
    "\n",
    "luma_blocks_x = np.array(np.split(jpg_luma, jpg_luma.shape[1] // 8, axis=1))\n",
    "luma_blocks = np.array(np.split(luma_blocks_x, jpg_luma.shape[0] // 8, axis=1))\n",
    "\n",
    "chroma_blocks_x = np.array(np.split(jpg_chroma_halved, jpg_chroma_halved.shape[1] // 8, axis=1))\n",
    "chroma_blocks = np.array(np.split(chroma_blocks_x, jpg_chroma_halved.shape[0] // 8, axis=1))\n",
    "\n",
    "#\n",
    "# 4. Calculate DCT on each block\n",
    "#\n",
    "luma_blocks_dct = dct2(luma_blocks)\n",
    "chroma_blocks_dct = np.array(chroma_blocks).astype(np.float64)\n",
    "chroma_blocks_dct[..., 0] = dct2(chroma_blocks[..., 0])\n",
    "chroma_blocks_dct[..., 1] = dct2(chroma_blocks[..., 1])\n",
    "\n",
    "#\n",
    "# 5. Divide each block by quantisation matrix\n",
    "#\n",
    "luma_blocks_quantized = (luma_blocks_dct / QY()).round()\n",
    "chroma_blocks_quantized = np.array(chroma_blocks_dct)\n",
    "chroma_blocks_quantized[..., 0] = (chroma_blocks_dct[..., 0] / QC()).round()\n",
    "chroma_blocks_quantized[..., 1] = (chroma_blocks_dct[..., 1] / QC()).round()\n",
    "\n",
    "#\n",
    "# 6. Round values in each block to integers\n",
    "#\n",
    "luma_blocks_quantized = np.rint(luma_blocks_quantized).astype(np.int16)\n",
    "chroma_blocks_quantized = np.rint(chroma_blocks_quantized).astype(np.int16)\n",
    "\n",
    "#\n",
    "# 7. Zig Zag\n",
    "#\n",
    "\n",
    "blocks_stacked_luma = np.vstack(luma_blocks_quantized)\n",
    "blocks_stacked_cb = np.vstack(chroma_blocks_quantized[..., 0])\n",
    "blocks_stacked_cr = np.vstack(chroma_blocks_quantized[..., 1])\n",
    "\n",
    "# shamelessly copied from https://stackoverflow.com/a/50446131 because its 2AM\n",
    "zigzags_luma = [np.concatenate([np.diagonal(block[::-1,:], i)[::(2*(i % 2)-1)] for i in range(1-block.shape[0], block.shape[0])]) for block in blocks_stacked_luma]\n",
    "zigzags_cb = [np.concatenate([np.diagonal(block[::-1,:], i)[::(2*(i % 2)-1)] for i in range(1-block.shape[0], block.shape[0])]) for block in blocks_stacked_cb]\n",
    "zigzags_cr = [np.concatenate([np.diagonal(block[::-1,:], i)[::(2*(i % 2)-1)] for i in range(1-block.shape[0], block.shape[0])]) for block in blocks_stacked_cr]\n",
    "\n",
    "#\n",
    "# 8. Flatten, concatenate, compress and calculate the size -- how many bytes?\n",
    "#\n",
    "\n",
    "zigzags = np.concatenate((zigzags_luma, zigzags_cb, zigzags_cr)).flatten()\n",
    "jpg_bytes = zigzags.tobytes()\n",
    "\n",
    "compressor = zlib.compressobj(strategy=zlib.Z_HUFFMAN_ONLY)\n",
    "compressed = compressor.compress(jpg_bytes) + compressor.flush()\n",
    "\n",
    "assert(jpg_bytes == zlib.decompress(compressed))\n",
    "print('Liczba bajtow oryginalnego obrazu:', len(jpg_data.tobytes()))\n",
    "print('Liczba bajtow po kompresji:', len(compressed))\n",
    "\n",
    "#\n",
    "# 7'. Undo Zig Zag\n",
    "#\n",
    "# We can skip it in this exercise! We did Zig Zag only for analysis in step 8.\n",
    "# You can continue with result from step 6. instead of implementing undo here.\n",
    "#\n",
    "\n",
    "#\n",
    "# 6'. Nothing to do here   ¯\\_(ツ)_/¯\n",
    "#\n",
    "# No conversion is really needed here, just proceed to the next step.\n",
    "#\n",
    "\n",
    "#\n",
    "# 5'. Reverse division by quantisation matrix -- multiply\n",
    "#\n",
    "luma_blocks_unquantized = (luma_blocks_quantized * QY())\n",
    "chroma_blocks_unquantized = np.array(chroma_blocks_quantized).astype(np.float64)\n",
    "chroma_blocks_unquantized[..., 0] = chroma_blocks_quantized[..., 0] * QC()\n",
    "chroma_blocks_unquantized[..., 1] = chroma_blocks_quantized[..., 1] * QC()\n",
    "\n",
    "#\n",
    "# 4'. Reverse DCT\n",
    "#\n",
    "luma_blocks_idct = idct2(luma_blocks_unquantized).astype(np.uint8)\n",
    "chroma_blocks_idct = np.array(chroma_blocks_unquantized).astype(np.uint8)\n",
    "chroma_blocks_idct[..., 0] = idct2(chroma_blocks_unquantized[..., 0])\n",
    "chroma_blocks_idct[..., 1] = idct2(chroma_blocks_unquantized[..., 1])\n",
    "\n",
    "#\n",
    "# 3'. Combine 8x8 blocks to original image\n",
    "#\n",
    "\n",
    "luma_blocks_decoded = np.concatenate(luma_blocks_idct, axis=1)\n",
    "luma_blocks_decoded = np.concatenate(luma_blocks_decoded, axis=1)\n",
    "\n",
    "chroma_blocks_decoded = np.concatenate(chroma_blocks_idct, axis=1)\n",
    "chroma_blocks_decoded = np.concatenate(chroma_blocks_decoded, axis=1)\n",
    "\n",
    "#\n",
    "# 2'. Upsampling on Cb and Cr channels\n",
    "#\n",
    "\n",
    "chroma_blocks_decoded = np.repeat(chroma_blocks_decoded, 2, axis=0)\n",
    "chroma_blocks_decoded = np.repeat(chroma_blocks_decoded, 2, axis=1)\n",
    "\n",
    "#\n",
    "# 1'. Convert YCbCr to RGB\n",
    "#\n",
    "\n",
    "decoded_ycrcb = np.zeros((luma_blocks_decoded.shape[0], luma_blocks_decoded.shape[1], 3), dtype=np.uint8)\n",
    "decoded_ycrcb[..., 0] = luma_blocks_decoded\n",
    "decoded_ycrcb[..., 1] = chroma_blocks_decoded[...,1]\n",
    "decoded_ycrcb[..., 2] = chroma_blocks_decoded[...,0]\n",
    "\n",
    "decoded_rgb = cv2.cvtColor(decoded_ycrcb, cv2.COLOR_YCrCb2RGB)\n",
    "\n",
    "#\n",
    "# 0'. Save the decoded image -- as PPM or PNG\n",
    "#\n",
    "save_png(decoded_rgb, 'lab4-po-kompresji-i-dekompresji-jpeg.png')"
   ]
  },
  {
   "cell_type": "code",
   "execution_count": 206,
   "metadata": {},
   "outputs": [
    {
     "data": {
      "text/plain": [
       "<matplotlib.image.AxesImage at 0x7f3256005b70>"
      ]
     },
     "execution_count": 206,
     "metadata": {},
     "output_type": "execute_result"
    },
    {
     "data": {
      "image/png": "[encoded data removed]",
      "text/plain": [
       "<Figure size 432x288 with 1 Axes>"
      ]
     },
     "metadata": {
      "needs_background": "light"
     },
     "output_type": "display_data"
    }
   ],
   "source": [
    "#\n",
    "# Display image\n",
    "#\n",
    "image_from_file = cv2.imread('lab4-po-kompresji-i-dekompresji-jpeg.png')\n",
    "pyplot.imshow(cv2.cvtColor(image_from_file, cv2.COLOR_BGR2RGB))"
   ]
  },
  {
   "cell_type": "markdown",
   "metadata": {},
   "source": [
    "# Obserwacje z zadań 4 i 5"
   ]
  },
  {
   "cell_type": "code",
   "execution_count": null,
   "metadata": {},
   "outputs": [],
   "source": []
  }
 ],
 "metadata": {
  "kernelspec": {
   "display_name": "Python 3",
   "language": "python",
   "name": "python3"
  },
  "language_info": {
   "codemirror_mode": {
    "name": "ipython",
    "version": 3
   },
   "file_extension": ".py",
   "mimetype": "text/x-python",
   "name": "python",
   "nbconvert_exporter": "python",
   "pygments_lexer": "ipython3",
   "version": "3.10.4"
  }
 },
 "nbformat": 4,
 "nbformat_minor": 4
}
